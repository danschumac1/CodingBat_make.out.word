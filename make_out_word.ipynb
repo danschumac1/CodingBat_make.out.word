{
 "cells": [
  {
   "cell_type": "markdown",
   "id": "4efeb9b5",
   "metadata": {},
   "source": [
    "# String-1 > make_out_word"
   ]
  },
  {
   "cell_type": "markdown",
   "id": "0abdcd49",
   "metadata": {},
   "source": [
    "Given an \"out\" string length 4, such as \"<<>>\", and a word, return a new string where the word is in the middle of the out string, e.g. \"<<word>>\".\n",
    "\n",
    "\n",
    "make_out_word('<<>>', 'Yay') → '<<Yay>>'\n",
    "make_out_word('<<>>', 'WooHoo') → '<<WooHoo>>'\n",
    "make_out_word('[[]]', 'word') → '[[word]]'"
   ]
  },
  {
   "cell_type": "code",
   "execution_count": 1,
   "id": "a596f7d6",
   "metadata": {},
   "outputs": [],
   "source": [
    "def make_out_word(out, word):\n",
    "  div = len(out)/2\n",
    "  return out[0:div] + word + out[-1:-div-1:-1][::-1]"
   ]
  }
 ],
 "metadata": {
  "kernelspec": {
   "display_name": "Python 3 (ipykernel)",
   "language": "python",
   "name": "python3"
  },
  "language_info": {
   "codemirror_mode": {
    "name": "ipython",
    "version": 3
   },
   "file_extension": ".py",
   "mimetype": "text/x-python",
   "name": "python",
   "nbconvert_exporter": "python",
   "pygments_lexer": "ipython3",
   "version": "3.9.12"
  }
 },
 "nbformat": 4,
 "nbformat_minor": 5
}
